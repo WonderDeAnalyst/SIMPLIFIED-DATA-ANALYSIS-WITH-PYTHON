{
 "cells": [
  {
   "cell_type": "code",
   "execution_count": 1,
   "id": "daef311d",
   "metadata": {},
   "outputs": [
    {
     "name": "stdout",
     "output_type": "stream",
     "text": [
      "CSV file 'student_performance_dataset.csv' has been created.\n"
     ]
    }
   ],
   "source": [
    "import pandas as pd\n",
    "import numpy as np\n",
    "\n",
    "# Define the sample size\n",
    "sample_size = 100\n",
    "\n",
    "# Generate random data for the features\n",
    "data = {\n",
    "    'Student_ID': np.arange(1, sample_size + 1),\n",
    "    'Age': np.random.randint(18, 25, size=sample_size),\n",
    "    'Gender': np.random.choice(['Male', 'Female'], size=sample_size),\n",
    "    'Study_Hours_per_Week': np.random.randint(5, 40, size=sample_size),\n",
    "    'Previous_Scores': np.random.randint(50, 100, size=sample_size),\n",
    "    'Class_Participation': np.random.randint(50, 100, size=sample_size),\n",
    "    'Attendance_Rate': np.random.randint(50, 100, size=sample_size),\n",
    "    'Parental_Education_Level': np.random.choice(['High School', 'Undergraduate', 'Graduate', 'Postgraduate'], size=sample_size),\n",
    "    'Extra_Curricular_Activities': np.random.choice(['Yes', 'No'], size=sample_size),\n",
    "    'Internet_Access_at_Home': np.random.choice(['Yes', 'No'], size=sample_size),\n",
    "    'Socioeconomic_Status': np.random.choice(['Low', 'Medium', 'High'], size=sample_size),\n",
    "    'Health_Issues': np.random.choice(['Yes', 'No'], size=sample_size),\n",
    "    'Motivation_Level': np.random.choice(['Low', 'Medium', 'High'], size=sample_size),\n",
    "    'Peer_Influence': np.random.choice(['Positive', 'Negative', 'Neutral'], size=sample_size),\n",
    "    'Time_Management_Skills': np.random.choice(['Poor', 'Average', 'Good'], size=sample_size),\n",
    "    'Family_Support': np.random.choice(['Low', 'Medium', 'High'], size=sample_size),\n",
    "    'Stress_Level': np.random.choice(['Low', 'Medium', 'High'], size=sample_size),\n",
    "    'Learning_Style': np.random.choice(['Visual', 'Auditory', 'Kinesthetic'], size=sample_size),\n",
    "    'Previous_GPA': np.random.choice(['1.0 - 2.0', '2.1 - 2.5', '2.6 - 3.0', '3.0 - 3.5', '3.5 - 4.0', '4.1 - 4.5', '4.6 - 5.0'], size=sample_size)\n",
    "}\n",
    "\n",
    "# Create a DataFrame\n",
    "df = pd.DataFrame(data)\n",
    "\n",
    "# Save the DataFrame to CSV\n",
    "df.to_csv('student_performance_dataset.csv', index=False)\n",
    "\n",
    "print(\"CSV file 'student_performance_dataset.csv' has been created.\")\n"
   ]
  },
  {
   "cell_type": "code",
   "execution_count": 5,
   "id": "c1fa0343",
   "metadata": {},
   "outputs": [
    {
     "ename": "ValueError",
     "evalue": "list.remove(x): x not in list",
     "output_type": "error",
     "traceback": [
      "\u001b[1;31m---------------------------------------------------------------------------\u001b[0m",
      "\u001b[1;31mValueError\u001b[0m                                Traceback (most recent call last)",
      "\u001b[1;32m~\\AppData\\Local\\Temp\\ipykernel_14572\\594828980.py\u001b[0m in \u001b[0;36m<module>\u001b[1;34m\u001b[0m\n\u001b[0;32m     38\u001b[0m \u001b[0mlabel_encoders\u001b[0m \u001b[1;33m=\u001b[0m \u001b[1;33m{\u001b[0m\u001b[1;33m}\u001b[0m\u001b[1;33m\u001b[0m\u001b[1;33m\u001b[0m\u001b[0m\n\u001b[0;32m     39\u001b[0m \u001b[0mcategorical_columns\u001b[0m \u001b[1;33m=\u001b[0m \u001b[0mdf\u001b[0m\u001b[1;33m.\u001b[0m\u001b[0mselect_dtypes\u001b[0m\u001b[1;33m(\u001b[0m\u001b[0minclude\u001b[0m\u001b[1;33m=\u001b[0m\u001b[1;33m[\u001b[0m\u001b[1;34m'object'\u001b[0m\u001b[1;33m]\u001b[0m\u001b[1;33m)\u001b[0m\u001b[1;33m.\u001b[0m\u001b[0mcolumns\u001b[0m\u001b[1;33m.\u001b[0m\u001b[0mtolist\u001b[0m\u001b[1;33m(\u001b[0m\u001b[1;33m)\u001b[0m\u001b[1;33m\u001b[0m\u001b[1;33m\u001b[0m\u001b[0m\n\u001b[1;32m---> 40\u001b[1;33m \u001b[0mcategorical_columns\u001b[0m\u001b[1;33m.\u001b[0m\u001b[0mremove\u001b[0m\u001b[1;33m(\u001b[0m\u001b[1;34m'Student_ID'\u001b[0m\u001b[1;33m)\u001b[0m  \u001b[1;31m# Drop Student_ID from categorical columns\u001b[0m\u001b[1;33m\u001b[0m\u001b[1;33m\u001b[0m\u001b[0m\n\u001b[0m\u001b[0;32m     41\u001b[0m \u001b[1;33m\u001b[0m\u001b[0m\n\u001b[0;32m     42\u001b[0m \u001b[1;31m# Initialize LabelEncoder\u001b[0m\u001b[1;33m\u001b[0m\u001b[1;33m\u001b[0m\u001b[0m\n",
      "\u001b[1;31mValueError\u001b[0m: list.remove(x): x not in list"
     ]
    }
   ],
   "source": [
    "import pandas as pd\n",
    "import numpy as np\n",
    "from sklearn.model_selection import train_test_split\n",
    "from sklearn.preprocessing import LabelEncoder, StandardScaler\n",
    "from sklearn.ensemble import RandomForestClassifier\n",
    "from sklearn.metrics import accuracy_score, classification_report\n",
    "\n",
    "# Step 1: Generate sample dataset\n",
    "sample_size = 100\n",
    "\n",
    "# Generate random data for the features\n",
    "data = {\n",
    "    'Student_ID': np.arange(1, sample_size + 1),\n",
    "    'Age': np.random.randint(18, 25, size=sample_size),\n",
    "    'Gender': np.random.choice(['Male', 'Female'], size=sample_size),\n",
    "    'Study_Hours_per_Week': np.random.randint(5, 40, size=sample_size),\n",
    "    'Previous_Scores': np.random.randint(50, 100, size=sample_size),\n",
    "    'Class_Participation': np.random.randint(50, 100, size=sample_size),\n",
    "    'Attendance_Rate': np.random.randint(50, 100, size=sample_size),\n",
    "    'Parental_Education_Level': np.random.choice(['High School', 'Undergraduate', 'Graduate', 'Postgraduate'], size=sample_size),\n",
    "    'Extra_Curricular_Activities': np.random.choice(['Yes', 'No'], size=sample_size),\n",
    "    'Internet_Access_at_Home': np.random.choice(['Yes', 'No'], size=sample_size),\n",
    "    'Socioeconomic_Status': np.random.choice(['Low', 'Medium', 'High'], size=sample_size),\n",
    "    'Health_Issues': np.random.choice(['Yes', 'No'], size=sample_size),\n",
    "    'Motivation_Level': np.random.choice(['Low', 'Medium', 'High'], size=sample_size),\n",
    "    'Peer_Influence': np.random.choice(['Positive', 'Negative', 'Neutral'], size=sample_size),\n",
    "    'Time_Management_Skills': np.random.choice(['Poor', 'Average', 'Good'], size=sample_size),\n",
    "    'Family_Support': np.random.choice(['Low', 'Medium', 'High'], size=sample_size),\n",
    "    'Stress_Level': np.random.choice(['Low', 'Medium', 'High'], size=sample_size),\n",
    "    'Learning_Style': np.random.choice(['Visual', 'Auditory', 'Kinesthetic'], size=sample_size),\n",
    "    'Previous_GPA': np.random.choice(['1.0 - 2.0', '2.1 - 2.5', '2.6 - 3.0', '3.0 - 3.5', '3.5 - 4.0', '4.1 - 4.5', '4.6 - 5.0'], size=sample_size)\n",
    "}\n",
    "\n",
    "# Create DataFrame\n",
    "df = pd.read_csv('student_performance_dataset.csv')\n",
    "\n",
    "# Step 2: Encode categorical features\n",
    "label_encoders = {}\n",
    "categorical_columns = df.select_dtypes(include=['object']).columns.tolist()\n",
    "categorical_columns.remove('Student_ID')  # Drop Student_ID from categorical columns\n",
    "\n",
    "# Initialize LabelEncoder\n",
    "for col in categorical_columns:\n",
    "    le = LabelEncoder()\n",
    "    df[col] = le.fit_transform(df[col])\n",
    "    label_encoders[col] = le\n",
    "\n",
    "# Step 3: Split the dataset into features and target\n",
    "# Create a target variable for demonstration (for example, predicting performance based on GPA)\n",
    "df['Final_Performance'] = pd.cut(df['Previous_Scores'], bins=[0, 60, 70, 80, 90, 100], labels=['Poor', 'Average', 'Good', 'Very Good', 'Excellent'])\n",
    "\n",
    "# Encode target variable\n",
    "le_target = LabelEncoder()\n",
    "df['Final_Performance'] = le_target.fit_transform(df['Final_Performance'])\n",
    "\n",
    "X = df.drop(columns=[\"Final_Performance\", \"Student_ID\"])  # Features\n",
    "y = df[\"Final_Performance\"]  # Target variable\n",
    "\n",
    "# Step 4: Train-Test Split\n",
    "X_train, X_test, y_train, y_test = train_test_split(X, y, test_size=0.2, random_state=42)\n",
    "\n",
    "# Step 5: Standardize numerical features\n",
    "scaler = StandardScaler()\n",
    "X_train = scaler.fit_transform(X_train)\n",
    "X_test = scaler.transform(X_test)\n",
    "\n",
    "# Step 6: Train Random Forest Classifier\n",
    "model = RandomForestClassifier(n_estimators=100, random_state=42)\n",
    "model.fit(X_train, y_train)\n",
    "\n",
    "# Step 7: Evaluate model\n",
    "y_pred = model.predict(X_test)\n",
    "accuracy = accuracy_score(y_test, y_pred)\n",
    "print(f\"Accuracy: {accuracy:.2f}\")\n",
    "print(\"Classification Report:\")\n",
    "print(classification_report(y_test, y_pred))\n",
    "\n",
    "# Step 8: Example Prediction\n",
    "example_input = {\n",
    "    \"Age\": 22,\n",
    "    \"Gender\": \"Male\",\n",
    "    \"Study_Hours_per_Week\": 30,\n",
    "    \"Previous_Scores\": 85,\n",
    "    \"Class_Participation\": 80,\n",
    "    \"Attendance_Rate\": 90,\n",
    "    \"Parental_Education_Level\": \"Undergraduate\",\n",
    "    \"Extra_Curricular_Activities\": \"Yes\",\n",
    "    \"Internet_Access_at_Home\": \"Yes\",\n",
    "    \"Socioeconomic_Status\": \"Medium\",\n",
    "    \"Health_Issues\": \"No\",\n",
    "    \"Motivation_Level\": \"High\",\n",
    "    \"Peer_Influence\": \"Positive\",\n",
    "    \"Time_Management_Skills\": \"Good\",\n",
    "    \"Family_Support\": \"Strong\",\n",
    "    \"Stress_Level\": \"Low\",\n",
    "    \"Learning_Style\": \"Visual\",\n",
    "    \"Previous_GPA\": \"3.5 - 4.0\"\n",
    "}\n",
    "\n",
    "# Transform the input data\n",
    "example_df = pd.DataFrame([example_input])\n",
    "for col in categorical_columns:\n",
    "    le = label_encoders[col]\n",
    "    example_df[col] = le.transform(example_df[col])\n",
    "\n",
    "example_df_scaled = scaler.transform(example_df)\n",
    "\n",
    "# Predict performance\n",
    "predicted_performance = model.predict(example_df_scaled)\n",
    "predicted_performance_label = le_target.inverse_transform(predicted_performance)\n",
    "\n",
    "print(f\"Predicted Performance: {predicted_performance_label[0]}\")\n"
   ]
  },
  {
   "cell_type": "code",
   "execution_count": 1,
   "id": "8c0c1525",
   "metadata": {},
   "outputs": [
    {
     "name": "stdout",
     "output_type": "stream",
     "text": [
      "No\n"
     ]
    }
   ],
   "source": [
    "food = \"Yam\"\n",
    "fruit = \"Orange\"\n",
    "if fruit == food:\n",
    "    print(\"Yes\")\n",
    "else:\n",
    "    print(\"No\")"
   ]
  },
  {
   "cell_type": "code",
   "execution_count": 2,
   "id": "8dae6591",
   "metadata": {},
   "outputs": [
    {
     "name": "stdout",
     "output_type": "stream",
     "text": [
      "You are Eligible to vote\n"
     ]
    }
   ],
   "source": [
    "age = 18\n",
    "if age >=18:\n",
    "    print(\"You are Eligible to vote\")"
   ]
  },
  {
   "cell_type": "code",
   "execution_count": 4,
   "id": "b9266274",
   "metadata": {},
   "outputs": [
    {
     "name": "stdout",
     "output_type": "stream",
     "text": [
      "You are almost eligible to vote.\n"
     ]
    }
   ],
   "source": [
    "age = 16\n",
    "\n",
    "if age >= 18:\n",
    "    print(\"You are eligible to vote.\")\n",
    "elif age >= 16:\n",
    "    print(\"You are almost eligible to vote.\")\n"
   ]
  },
  {
   "cell_type": "code",
   "execution_count": 5,
   "id": "33ae444a",
   "metadata": {},
   "outputs": [
    {
     "name": "stdout",
     "output_type": "stream",
     "text": [
      "You are too young to vote.\n"
     ]
    }
   ],
   "source": [
    "age = 12\n",
    "\n",
    "if age >= 18:\n",
    "    print(\"You are eligible to vote.\")\n",
    "elif age >= 16:\n",
    "    print(\"You are almost eligible to vote.\")\n",
    "else:\n",
    "    print(\"You are too young to vote.\")\n"
   ]
  },
  {
   "cell_type": "code",
   "execution_count": 6,
   "id": "b172c56b",
   "metadata": {},
   "outputs": [
    {
     "name": "stdout",
     "output_type": "stream",
     "text": [
      "Grade: B\n"
     ]
    }
   ],
   "source": [
    "score = 85\n",
    "\n",
    "if score >= 90:\n",
    "    print(\"Grade: A\")\n",
    "elif score >= 80:\n",
    "    print(\"Grade: B\")\n",
    "elif score >= 70:\n",
    "    print(\"Grade: C\")\n",
    "else:\n",
    "    print(\"Grade: F\")\n"
   ]
  }
 ],
 "metadata": {
  "kernelspec": {
   "display_name": "Python 3 (ipykernel)",
   "language": "python",
   "name": "python3"
  },
  "language_info": {
   "codemirror_mode": {
    "name": "ipython",
    "version": 3
   },
   "file_extension": ".py",
   "mimetype": "text/x-python",
   "name": "python",
   "nbconvert_exporter": "python",
   "pygments_lexer": "ipython3",
   "version": "3.9.13"
  }
 },
 "nbformat": 4,
 "nbformat_minor": 5
}
