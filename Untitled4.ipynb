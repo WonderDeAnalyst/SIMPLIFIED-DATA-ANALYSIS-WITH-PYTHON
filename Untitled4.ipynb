{
 "cells": [
  {
   "cell_type": "code",
   "execution_count": null,
   "id": "7e4780ba",
   "metadata": {},
   "outputs": [
    {
     "name": "stdout",
     "output_type": "stream",
     "text": [
      "1. What does EXPLAIN ANALYZE do?\n",
      "A) Provides query execution details\n",
      "B) Deletes a table\n",
      "C) Finds duplicate records\n",
      "D) Sorts the data\n",
      "Your answer (A/B/C/D): a\n",
      "Correct!\n",
      "\n",
      "2. What does the HAVING clause do in SQL?\n",
      "A) Filters results after aggregation\n",
      "B) Filters results before aggregation\n",
      "C) Works as an alias for WHERE\n",
      "D) Groups records together\n",
      "Your answer (A/B/C/D): v\n",
      "Wrong! The correct answer is A.\n",
      "\n",
      "3. What does ACID stand for in databases?\n",
      "A) Atomicity, Consistency, Isolation, Durability\n",
      "B) Aggregation, Calculation, Integrity, Data\n",
      "C) Active, Consistent, Independent, Durable\n",
      "D) Automated, Clear, Integrated, Durable\n"
     ]
    }
   ],
   "source": [
    "import random\n",
    "\n",
    "def sql_quiz():\n",
    "    questions = [\n",
    "        (\"What is the primary purpose of the GROUP BY clause?\", \n",
    "         [\"A) To filter rows based on conditions\", \"B) To group rows with the same values in specified columns\", \"C) To sort the result set\", \"D) To retrieve unique records\"], \"B\"),\n",
    "        (\"Which SQL keyword is used to retrieve only unique values?\", \n",
    "         [\"A) DISTINCT\", \"B) UNIQUE\", \"C) FILTER\", \"D) DIFFERENT\"], \"A\"),\n",
    "        (\"What does the HAVING clause do in SQL?\", \n",
    "         [\"A) Filters results after aggregation\", \"B) Filters results before aggregation\", \"C) Works as an alias for WHERE\", \"D) Groups records together\"], \"A\"),\n",
    "        (\"What is the default sorting order of the ORDER BY clause?\", \n",
    "         [\"A) DESC\", \"B) ASC\", \"C) RANDOM\", \"D) UNSORTED\"], \"B\"),\n",
    "        (\"What is the purpose of the INNER JOIN?\", \n",
    "         [\"A) Retrieves matching records from two tables\", \"B) Retrieves all records from both tables\", \"C) Retrieves only non-matching records\", \"D) Retrieves only NULL values\"], \"A\"),\n",
    "        (\"What is an index in SQL?\", \n",
    "         [\"A) A structure that speeds up searches\", \"B) A table that stores relationships\", \"C) A way to delete duplicate records\", \"D) A method for sorting tables\"], \"A\"),\n",
    "        (\"Which SQL statement is best for handling millions of records efficiently?\", \n",
    "         [\"A) SELECT * FROM table WHERE column = value\", \"B) CREATE INDEX ON table(column)\", \"C) DELETE FROM table\", \"D) ORDER BY column\"], \"B\"),\n",
    "        (\"What is the main purpose of foreign keys?\", \n",
    "         [\"A) Maintain referential integrity\", \"B) Improve query performance\", \"C) Store large text data\", \"D) Convert values\"], \"A\"),\n",
    "        (\"What does ACID stand for in databases?\", \n",
    "         [\"A) Atomicity, Consistency, Isolation, Durability\", \"B) Aggregation, Calculation, Integrity, Data\", \"C) Active, Consistent, Independent, Durable\", \"D) Automated, Clear, Integrated, Durable\"], \"A\"),\n",
    "        (\"What does EXPLAIN ANALYZE do?\", \n",
    "         [\"A) Provides query execution details\", \"B) Deletes a table\", \"C) Finds duplicate records\", \"D) Sorts the data\"], \"A\")\n",
    "    ]\n",
    "    \n",
    "    random.shuffle(questions)\n",
    "    score = 0\n",
    "    \n",
    "    for i, (question, options, answer) in enumerate(questions[:10], 1):\n",
    "        print(f\"{i}. {question}\")\n",
    "        for option in options:\n",
    "            print(option)\n",
    "        \n",
    "        user_answer = input(\"Your answer (A/B/C/D): \").strip().upper()\n",
    "        if user_answer == answer:\n",
    "            print(\"Correct!\\n\")\n",
    "            score += 1\n",
    "        else:\n",
    "            print(f\"Wrong! The correct answer is {answer}.\\n\")\n",
    "    \n",
    "    print(f\"Quiz Completed! Your Score: {score}/10\")\n",
    "\n",
    "if __name__ == \"__main__\":\n",
    "    sql_quiz()"
   ]
  }
 ],
 "metadata": {
  "kernelspec": {
   "display_name": "Python 3 (ipykernel)",
   "language": "python",
   "name": "python3"
  },
  "language_info": {
   "codemirror_mode": {
    "name": "ipython",
    "version": 3
   },
   "file_extension": ".py",
   "mimetype": "text/x-python",
   "name": "python",
   "nbconvert_exporter": "python",
   "pygments_lexer": "ipython3",
   "version": "3.9.13"
  }
 },
 "nbformat": 4,
 "nbformat_minor": 5
}
