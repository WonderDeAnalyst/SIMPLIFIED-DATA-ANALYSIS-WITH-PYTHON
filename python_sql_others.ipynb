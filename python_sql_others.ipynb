{
 "cells": [
  {
   "cell_type": "code",
   "execution_count": 23,
   "id": "595e685d",
   "metadata": {},
   "outputs": [
    {
     "name": "stdout",
     "output_type": "stream",
     "text": [
      "Requirement already satisfied: sqlalchemy in c:\\users\\user\\anaconda3\\lib\\site-packages (1.4.54)Note: you may need to restart the kernel to use updated packages.\n",
      "\n",
      "Requirement already satisfied: pymysql in c:\\users\\user\\anaconda3\\lib\\site-packages (1.1.1)\n",
      "Requirement already satisfied: greenlet!=0.4.17 in c:\\users\\user\\anaconda3\\lib\\site-packages (from sqlalchemy) (3.1.0)\n"
     ]
    }
   ],
   "source": [
    "pip install sqlalchemy pymysql"
   ]
  },
  {
   "cell_type": "code",
   "execution_count": 1,
   "id": "96a852c7",
   "metadata": {},
   "outputs": [
    {
     "name": "stdout",
     "output_type": "stream",
     "text": [
      "Connected\n"
     ]
    },
    {
     "name": "stderr",
     "output_type": "stream",
     "text": [
      "C:\\Users\\user\\AppData\\Local\\Temp\\ipykernel_3840\\1004824673.py:11: RemovedIn20Warning: Deprecated API features detected! These feature(s) are not compatible with SQLAlchemy 2.0. To prevent incompatible upgrades prior to updating applications, ensure requirements files are pinned to \"sqlalchemy<2.0\". Set environment variable SQLALCHEMY_WARN_20=1 to show all deprecation warnings.  Set environment variable SQLALCHEMY_SILENCE_UBER_WARNING=1 to silence this message. (Background on SQLAlchemy 2.0 at: https://sqlalche.me/e/b8d9)\n",
      "  connection.execute(f\"CREATE DATABASE IF NOT EXISTS {database}\")\n"
     ]
    }
   ],
   "source": [
    "from sqlalchemy import create_engine\n",
    "\n",
    "username = 'root'\n",
    "password = ''\n",
    "host = 'localhost'\n",
    "port = '3306'\n",
    "database = 'awesome_chocolates'\n",
    "engine = create_engine(f'mysql+pymysql://{username}:{password}@{host}:{port}')\n",
    "                       \n",
    "with engine.connect() as connection:\n",
    "    connection.execute(f\"CREATE DATABASE IF NOT EXISTS {database}\")\n",
    "   \n",
    "    \n",
    "    engine = create_engine(f'mysql+pymysql://{username}:{password}@{host}:{port}/{database}')\n",
    "    print('Connected')"
   ]
  },
  {
   "cell_type": "code",
   "execution_count": 27,
   "id": "cb9d165b",
   "metadata": {},
   "outputs": [
    {
     "name": "stdout",
     "output_type": "stream",
     "text": [
      "Connection Successful\n"
     ]
    }
   ],
   "source": [
    "from sqlalchemy import create_engine\n",
    "\n",
    "username = 'root'\n",
    "password = ''\n",
    "host = 'localhost'\n",
    "port = '3306'\n",
    "database = 'awesome_chocolates'\n",
    "try:\n",
    "    with engine.connect() as connection:\n",
    "        connection = create_engine(f'mysql+pymysql://{username}:{password}@{host}:{port}/{database}')\n",
    "        print(\"Connection Successful\")\n",
    "except Exception as e:\n",
    "    print(f\"Failed to connect: {e}\")"
   ]
  },
  {
   "cell_type": "code",
   "execution_count": 30,
   "id": "0899fb5b",
   "metadata": {},
   "outputs": [
    {
     "data": {
      "text/html": [
       "<div>\n",
       "<style scoped>\n",
       "    .dataframe tbody tr th:only-of-type {\n",
       "        vertical-align: middle;\n",
       "    }\n",
       "\n",
       "    .dataframe tbody tr th {\n",
       "        vertical-align: top;\n",
       "    }\n",
       "\n",
       "    .dataframe thead th {\n",
       "        text-align: right;\n",
       "    }\n",
       "</style>\n",
       "<table border=\"1\" class=\"dataframe\">\n",
       "  <thead>\n",
       "    <tr style=\"text-align: right;\">\n",
       "      <th></th>\n",
       "      <th>SPID</th>\n",
       "      <th>GeoID</th>\n",
       "      <th>PID</th>\n",
       "      <th>SaleDate</th>\n",
       "      <th>Amount</th>\n",
       "      <th>Customers</th>\n",
       "      <th>Boxes</th>\n",
       "    </tr>\n",
       "  </thead>\n",
       "  <tbody>\n",
       "    <tr>\n",
       "      <th>0</th>\n",
       "      <td>SP01</td>\n",
       "      <td>G4</td>\n",
       "      <td>P04</td>\n",
       "      <td>2021-01-01</td>\n",
       "      <td>8414</td>\n",
       "      <td>276</td>\n",
       "      <td>495</td>\n",
       "    </tr>\n",
       "    <tr>\n",
       "      <th>1</th>\n",
       "      <td>SP02</td>\n",
       "      <td>G3</td>\n",
       "      <td>P14</td>\n",
       "      <td>2021-01-01</td>\n",
       "      <td>532</td>\n",
       "      <td>317</td>\n",
       "      <td>54</td>\n",
       "    </tr>\n",
       "    <tr>\n",
       "      <th>2</th>\n",
       "      <td>SP12</td>\n",
       "      <td>G2</td>\n",
       "      <td>P08</td>\n",
       "      <td>2021-01-01</td>\n",
       "      <td>5376</td>\n",
       "      <td>178</td>\n",
       "      <td>269</td>\n",
       "    </tr>\n",
       "    <tr>\n",
       "      <th>3</th>\n",
       "      <td>SP01</td>\n",
       "      <td>G4</td>\n",
       "      <td>P15</td>\n",
       "      <td>2021-01-01</td>\n",
       "      <td>259</td>\n",
       "      <td>32</td>\n",
       "      <td>22</td>\n",
       "    </tr>\n",
       "    <tr>\n",
       "      <th>4</th>\n",
       "      <td>SP19</td>\n",
       "      <td>G2</td>\n",
       "      <td>P18</td>\n",
       "      <td>2021-01-01</td>\n",
       "      <td>5530</td>\n",
       "      <td>4</td>\n",
       "      <td>179</td>\n",
       "    </tr>\n",
       "  </tbody>\n",
       "</table>\n",
       "</div>"
      ],
      "text/plain": [
       "   SPID GeoID  PID   SaleDate  Amount  Customers  Boxes\n",
       "0  SP01    G4  P04 2021-01-01    8414        276    495\n",
       "1  SP02    G3  P14 2021-01-01     532        317     54\n",
       "2  SP12    G2  P08 2021-01-01    5376        178    269\n",
       "3  SP01    G4  P15 2021-01-01     259         32     22\n",
       "4  SP19    G2  P18 2021-01-01    5530          4    179"
      ]
     },
     "execution_count": 30,
     "metadata": {},
     "output_type": "execute_result"
    }
   ],
   "source": [
    "import pandas as pd\n",
    "\n",
    "query = \"SELECT * FROM sales\"\n",
    "\n",
    "df = pd.read_sql_query(query, engine)\n",
    "\n",
    "df.head()\n"
   ]
  },
  {
   "cell_type": "code",
   "execution_count": 32,
   "id": "85950a0e",
   "metadata": {},
   "outputs": [
    {
     "data": {
      "text/plain": [
       "<bound method NDFrame.head of   GeoID  TotalSales\n",
       "0    G1   7310254.0\n",
       "1    G2   7012523.0\n",
       "2    G3   7350091.0\n",
       "3    G4   7435918.0\n",
       "4    G5   7263151.0\n",
       "5    G6   7189609.0>"
      ]
     },
     "execution_count": 32,
     "metadata": {},
     "output_type": "execute_result"
    }
   ],
   "source": [
    "query  = \"SELECT GeoID, SUM(Amount) AS TotalSales FROM sales GROUP BY GeoID\"\n",
    "df = pd.read_sql_query(query, engine)\n",
    "df.head\n"
   ]
  },
  {
   "cell_type": "code",
   "execution_count": 50,
   "id": "de9cfb6f",
   "metadata": {},
   "outputs": [
    {
     "data": {
      "text/html": [
       "<div>\n",
       "<style scoped>\n",
       "    .dataframe tbody tr th:only-of-type {\n",
       "        vertical-align: middle;\n",
       "    }\n",
       "\n",
       "    .dataframe tbody tr th {\n",
       "        vertical-align: top;\n",
       "    }\n",
       "\n",
       "    .dataframe thead th {\n",
       "        text-align: right;\n",
       "    }\n",
       "</style>\n",
       "<table border=\"1\" class=\"dataframe\">\n",
       "  <thead>\n",
       "    <tr style=\"text-align: right;\">\n",
       "      <th></th>\n",
       "      <th>GeoID</th>\n",
       "      <th>TotalBoxes</th>\n",
       "    </tr>\n",
       "  </thead>\n",
       "  <tbody>\n",
       "    <tr>\n",
       "      <th>0</th>\n",
       "      <td>G1</td>\n",
       "      <td>490374.0</td>\n",
       "    </tr>\n",
       "  </tbody>\n",
       "</table>\n",
       "</div>"
      ],
      "text/plain": [
       "  GeoID  TotalBoxes\n",
       "0    G1    490374.0"
      ]
     },
     "execution_count": 50,
     "metadata": {},
     "output_type": "execute_result"
    }
   ],
   "source": [
    "query = \"\"\"SELECT GeoID, SUM(Boxes) AS TotalBoxes \n",
    "            FROM sales \n",
    "            WHERE GeoID = 'G1' AND SaleDate BETWEEN \n",
    "            '2021-01-01' AND '2023-12-31'\"\"\"\n",
    "df = pd.read_sql_query(query, engine)\n",
    "df.head()\n"
   ]
  },
  {
   "cell_type": "code",
   "execution_count": 51,
   "id": "d38807c5",
   "metadata": {},
   "outputs": [],
   "source": [
    "query = \"SELECT * FROM sales\"\n",
    "\n",
    "df = pd.read_sql_query(query, engine)\n",
    "\n",
    "df.to_csv('sales.csv', index=False)"
   ]
  },
  {
   "cell_type": "code",
   "execution_count": 53,
   "id": "22f70fc3",
   "metadata": {},
   "outputs": [
    {
     "data": {
      "text/html": [
       "<div>\n",
       "<style scoped>\n",
       "    .dataframe tbody tr th:only-of-type {\n",
       "        vertical-align: middle;\n",
       "    }\n",
       "\n",
       "    .dataframe tbody tr th {\n",
       "        vertical-align: top;\n",
       "    }\n",
       "\n",
       "    .dataframe thead th {\n",
       "        text-align: right;\n",
       "    }\n",
       "</style>\n",
       "<table border=\"1\" class=\"dataframe\">\n",
       "  <thead>\n",
       "    <tr style=\"text-align: right;\">\n",
       "      <th></th>\n",
       "      <th>SPID</th>\n",
       "      <th>GeoID</th>\n",
       "      <th>PID</th>\n",
       "      <th>SaleDate</th>\n",
       "      <th>Amount</th>\n",
       "      <th>Customers</th>\n",
       "      <th>Boxes</th>\n",
       "    </tr>\n",
       "  </thead>\n",
       "  <tbody>\n",
       "    <tr>\n",
       "      <th>0</th>\n",
       "      <td>SP01</td>\n",
       "      <td>G4</td>\n",
       "      <td>P04</td>\n",
       "      <td>2021-01-01</td>\n",
       "      <td>8414</td>\n",
       "      <td>276</td>\n",
       "      <td>495</td>\n",
       "    </tr>\n",
       "    <tr>\n",
       "      <th>1</th>\n",
       "      <td>SP02</td>\n",
       "      <td>G3</td>\n",
       "      <td>P14</td>\n",
       "      <td>2021-01-01</td>\n",
       "      <td>532</td>\n",
       "      <td>317</td>\n",
       "      <td>54</td>\n",
       "    </tr>\n",
       "    <tr>\n",
       "      <th>2</th>\n",
       "      <td>SP12</td>\n",
       "      <td>G2</td>\n",
       "      <td>P08</td>\n",
       "      <td>2021-01-01</td>\n",
       "      <td>5376</td>\n",
       "      <td>178</td>\n",
       "      <td>269</td>\n",
       "    </tr>\n",
       "    <tr>\n",
       "      <th>3</th>\n",
       "      <td>SP01</td>\n",
       "      <td>G4</td>\n",
       "      <td>P15</td>\n",
       "      <td>2021-01-01</td>\n",
       "      <td>259</td>\n",
       "      <td>32</td>\n",
       "      <td>22</td>\n",
       "    </tr>\n",
       "    <tr>\n",
       "      <th>4</th>\n",
       "      <td>SP19</td>\n",
       "      <td>G2</td>\n",
       "      <td>P18</td>\n",
       "      <td>2021-01-01</td>\n",
       "      <td>5530</td>\n",
       "      <td>4</td>\n",
       "      <td>179</td>\n",
       "    </tr>\n",
       "    <tr>\n",
       "      <th>5</th>\n",
       "      <td>SP17</td>\n",
       "      <td>G1</td>\n",
       "      <td>P13</td>\n",
       "      <td>2021-01-01</td>\n",
       "      <td>2184</td>\n",
       "      <td>63</td>\n",
       "      <td>122</td>\n",
       "    </tr>\n",
       "    <tr>\n",
       "      <th>6</th>\n",
       "      <td>SP20</td>\n",
       "      <td>G6</td>\n",
       "      <td>P04</td>\n",
       "      <td>2021-01-01</td>\n",
       "      <td>1057</td>\n",
       "      <td>295</td>\n",
       "      <td>71</td>\n",
       "    </tr>\n",
       "    <tr>\n",
       "      <th>7</th>\n",
       "      <td>SP14</td>\n",
       "      <td>G5</td>\n",
       "      <td>P16</td>\n",
       "      <td>2021-01-01</td>\n",
       "      <td>1036</td>\n",
       "      <td>370</td>\n",
       "      <td>37</td>\n",
       "    </tr>\n",
       "    <tr>\n",
       "      <th>8</th>\n",
       "      <td>SP10</td>\n",
       "      <td>G5</td>\n",
       "      <td>P17</td>\n",
       "      <td>2021-01-01</td>\n",
       "      <td>4039</td>\n",
       "      <td>536</td>\n",
       "      <td>176</td>\n",
       "    </tr>\n",
       "    <tr>\n",
       "      <th>9</th>\n",
       "      <td>SP06</td>\n",
       "      <td>G4</td>\n",
       "      <td>P01</td>\n",
       "      <td>2021-01-01</td>\n",
       "      <td>12894</td>\n",
       "      <td>115</td>\n",
       "      <td>478</td>\n",
       "    </tr>\n",
       "  </tbody>\n",
       "</table>\n",
       "</div>"
      ],
      "text/plain": [
       "   SPID GeoID  PID    SaleDate  Amount  Customers  Boxes\n",
       "0  SP01    G4  P04  2021-01-01    8414        276    495\n",
       "1  SP02    G3  P14  2021-01-01     532        317     54\n",
       "2  SP12    G2  P08  2021-01-01    5376        178    269\n",
       "3  SP01    G4  P15  2021-01-01     259         32     22\n",
       "4  SP19    G2  P18  2021-01-01    5530          4    179\n",
       "5  SP17    G1  P13  2021-01-01    2184         63    122\n",
       "6  SP20    G6  P04  2021-01-01    1057        295     71\n",
       "7  SP14    G5  P16  2021-01-01    1036        370     37\n",
       "8  SP10    G5  P17  2021-01-01    4039        536    176\n",
       "9  SP06    G4  P01  2021-01-01   12894        115    478"
      ]
     },
     "execution_count": 53,
     "metadata": {},
     "output_type": "execute_result"
    }
   ],
   "source": [
    "df = pd.read_csv('sales.csv')\n",
    "df.head(10)"
   ]
  }
 ],
 "metadata": {
  "kernelspec": {
   "display_name": "Python [conda env:base] *",
   "language": "python",
   "name": "conda-base-py"
  },
  "language_info": {
   "codemirror_mode": {
    "name": "ipython",
    "version": 3
   },
   "file_extension": ".py",
   "mimetype": "text/x-python",
   "name": "python",
   "nbconvert_exporter": "python",
   "pygments_lexer": "ipython3",
   "version": "3.12.7"
  }
 },
 "nbformat": 4,
 "nbformat_minor": 5
}
